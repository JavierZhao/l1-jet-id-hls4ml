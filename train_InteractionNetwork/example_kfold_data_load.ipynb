{
 "cells": [
  {
   "cell_type": "code",
   "execution_count": 1,
   "id": "3284122d",
   "metadata": {},
   "outputs": [
    {
     "name": "stdout",
     "output_type": "stream",
     "text": [
      "train: [0, 1, 2, 3]\n",
      "test: 4\n"
     ]
    }
   ],
   "source": [
    "import os\n",
    "import sys\n",
    "\n",
    "\n",
    "val_kfold = 4\n",
    "\n",
    "kfolds = 5\n",
    "nconst = 8\n",
    "train_kfolds = [kfold for kfold in range(kfolds) if kfold != val_kfold]\n",
    "val_kfold = val_kfold\n",
    "\n",
    "print(\"train:\", train_kfolds)\n",
    "print(\"test:\", val_kfold)\n",
    "\n",
    "\n",
    "fpath = f'./data_kfold/jets_{nconst}constituents_ptetaphi_nonorm'\n",
    "fnames_train = [f'jet_images_c{nconst}_minpt2.0_ptetaphi_nonorm_{train_kfold}'\n",
    "                     for train_kfold in train_kfolds]\n",
    "fname_test = f'jet_images_c{nconst}_minpt2.0_ptetaphi_nonorm_{val_kfold}'\n",
    "\n"
   ]
  },
  {
   "cell_type": "code",
   "execution_count": 2,
   "id": "770f5088",
   "metadata": {},
   "outputs": [
    {
     "name": "stderr",
     "output_type": "stream",
     "text": [
      "2023-09-19 19:55:29.175551: I tensorflow/stream_executor/platform/default/dso_loader.cc:53] Successfully opened dynamic library libcudart.so.11.0\n"
     ]
    },
    {
     "name": "stdout",
     "output_type": "stream",
     "text": [
      "\n",
      "----------------\n",
      "Data loading complete:\n",
      "File name: None\n",
      "Training data size: 480,840\n",
      "Test data size: 120,210\n",
      "Number of constituents: 8\n",
      "Number of features: 3\n",
      "----------------\n",
      "\n",
      "(480840, 8, 3)\n",
      "(480840, 5)\n",
      "480840\n",
      "8\n",
      "3\n",
      "(120210, 8, 3)\n",
      "(120210, 5)\n",
      "120210\n"
     ]
    }
   ],
   "source": [
    "sys.path.append(\"..\")\n",
    "import util.data\n",
    "data = util.data.Data.load_kfolds(fpath, fnames_train, fname_test)\n",
    "\n",
    "print (data.train_data.shape)\n",
    "print (data.train_target.shape)\n",
    "print (data.ntrain_jets)\n",
    "print (data.ncons)\n",
    "print (data.nfeat)\n",
    "\n",
    "print (data.test_data.shape)\n",
    "print (data.test_target.shape)\n",
    "print (data.ntest_jets)"
   ]
  },
  {
   "cell_type": "code",
   "execution_count": 3,
   "id": "f3e5d244",
   "metadata": {},
   "outputs": [
    {
     "name": "stdout",
     "output_type": "stream",
     "text": [
      "[[[ 5.82747269e+01 -3.47105898e-02 -2.50692666e-01]\n",
      "  [ 1.31162872e+02 -1.55123457e-01  7.80243650e-02]\n",
      "  [ 7.43576889e+01  1.31787956e-01  2.54535414e-02]\n",
      "  [ 5.49918594e+01  1.39287919e-01  2.79548876e-02]\n",
      "  [ 4.93375778e+01  1.51787952e-01  2.54535191e-02]\n",
      "  [ 1.10920090e+02  1.41642347e-01  2.73399241e-02]\n",
      "  [ 9.82711639e+01  1.34287924e-01  2.29523480e-02]\n",
      "  [ 5.16941032e+01 -1.65386036e-01  7.07828403e-02]]]\n",
      "[[[ 0.26609464 -0.17355295 -1.25346333]\n",
      "  [ 0.59891723 -0.77561729  0.39012183]\n",
      "  [ 0.33953283  0.65893978  0.12726771]\n",
      "  [ 0.25110438  0.69643959  0.13977444]\n",
      "  [ 0.22528574  0.75893976  0.1272676 ]\n",
      "  [ 0.50648443  0.70821173  0.13669962]\n",
      "  [ 0.44872678  0.67143962  0.11476174]\n",
      "  [ 0.23604613 -0.82693018  0.3539142 ]]]\n",
      "[[[ 9.83808746e+01  3.49040446e-03 -1.07286824e-02]\n",
      "  [ 6.25107346e+01 -5.90196950e-03  1.06326090e-02]\n",
      "  [ 5.32712708e+01 -2.76031729e-04 -1.30667735e-03]\n",
      "  [ 9.07253342e+01 -1.02760466e-02  3.69581976e-03]\n",
      "  [ 2.75899719e+02  7.22400984e-03 -3.80816590e-03]\n",
      "  [ 5.93391953e+01  4.24563128e-04 -8.44494626e-03]\n",
      "  [ 1.22121910e+02 -7.23965885e-03  1.26006259e-02]\n",
      "  [ 1.01537445e+02 -9.78684518e-03  1.48161156e-02]]]\n",
      "[[[ 0.44922774  0.01745202 -0.05364341]\n",
      "  [ 0.28543714 -0.02950985  0.05316305]\n",
      "  [ 0.24324781 -0.00138016 -0.00653339]\n",
      "  [ 0.41427093 -0.05138023  0.0184791 ]\n",
      "  [ 1.25981607  0.03612005 -0.01904083]\n",
      "  [ 0.27095523  0.00212282 -0.04222473]\n",
      "  [ 0.55763429 -0.03619829  0.06300313]\n",
      "  [ 0.4636413  -0.04893423  0.07408058]]]\n"
     ]
    }
   ],
   "source": [
    "interquantile_range = [219, 0.20, 0.20]\n",
    "X_train = data.train_data / interquantile_range\n",
    "print(data.train_data[0:1])\n",
    "print(X_train[0:1])\n",
    "\n",
    "X_val = data.test_data / interquantile_range\n",
    "print(data.test_data[0:1])\n",
    "print(X_val[0:1])"
   ]
  },
  {
   "cell_type": "code",
   "execution_count": null,
   "id": "70d299cf",
   "metadata": {},
   "outputs": [],
   "source": []
  }
 ],
 "metadata": {
  "kernelspec": {
   "display_name": "Python 3 (ipykernel)",
   "language": "python",
   "name": "python3"
  },
  "language_info": {
   "codemirror_mode": {
    "name": "ipython",
    "version": 3
   },
   "file_extension": ".py",
   "mimetype": "text/x-python",
   "name": "python",
   "nbconvert_exporter": "python",
   "pygments_lexer": "ipython3",
   "version": "3.7.12"
  }
 },
 "nbformat": 4,
 "nbformat_minor": 5
}
