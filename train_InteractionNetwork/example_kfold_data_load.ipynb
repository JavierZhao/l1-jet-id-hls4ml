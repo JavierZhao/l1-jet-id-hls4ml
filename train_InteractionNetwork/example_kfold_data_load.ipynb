{
 "cells": [
  {
   "cell_type": "code",
   "execution_count": 24,
   "id": "3284122d",
   "metadata": {},
   "outputs": [
    {
     "name": "stdout",
     "output_type": "stream",
     "text": [
      "train: [0, 1, 2, 3]\n",
      "test: 4\n",
      "{'fpath': './data_kfold/jets_8constituents_ptetaphi_nonorm', 'fnames_train': ['jet_images_c8_minpt2.0_ptetaphi_nonorm_0', 'jet_images_c8_minpt2.0_ptetaphi_nonorm_1', 'jet_images_c8_minpt2.0_ptetaphi_nonorm_2', 'jet_images_c8_minpt2.0_ptetaphi_nonorm_3'], 'fname_test': 'jet_images_c8_minpt2.0_ptetaphi_nonorm_4'}\n"
     ]
    }
   ],
   "source": [
    "import os\n",
    "import sys\n",
    "\n",
    "\n",
    "test_kfold = 4\n",
    "\n",
    "kfolds = 5\n",
    "nconst = 8\n",
    "train_kfolds = [kfold for kfold in range(kfolds) if kfold != test_kfold]\n",
    "test_kfold = test_kfold\n",
    "\n",
    "print(\"train:\", train_kfolds)\n",
    "print(\"test:\", test_kfold)\n",
    "\n",
    "\n",
    "fpath = f'./data_kfold/jets_{nconst}constituents_ptetaphi_nonorm'\n",
    "fnames_train = [f'jet_images_c{nconst}_minpt2.0_ptetaphi_nonorm_{train_kfold}'\n",
    "                     for train_kfold in train_kfolds]\n",
    "fname_test = f'jet_images_c{nconst}_minpt2.0_ptetaphi_nonorm_{test_kfold}'\n",
    "\n",
    "\n",
    "print(data_hyperparams)\n"
   ]
  },
  {
   "cell_type": "code",
   "execution_count": 25,
   "id": "770f5088",
   "metadata": {},
   "outputs": [
    {
     "name": "stdout",
     "output_type": "stream",
     "text": [
      "\n",
      "----------------\n",
      "Data loading complete:\n",
      "File name: None\n",
      "Training data size: 480,840\n",
      "Test data size: 120,210\n",
      "Number of constituents: 8\n",
      "Number of features: 3\n",
      "----------------\n",
      "\n",
      "(480840, 8, 3)\n",
      "(480840, 5)\n",
      "480840\n",
      "8\n",
      "3\n",
      "(120210, 8, 3)\n",
      "(120210, 5)\n",
      "120210\n"
     ]
    }
   ],
   "source": [
    "import util.data\n",
    "data = util.data.Data.load_kfolds(fpath, fnames_train, fname_test)\n",
    "\n",
    "print (data.train_data.shape)\n",
    "print (data.train_target.shape)\n",
    "print (data.ntrain_jets)\n",
    "print (data.ncons)\n",
    "print (data.nfeat)\n",
    "\n",
    "print (data.test_data.shape)\n",
    "print (data.test_target.shape)\n",
    "print (data.ntest_jets)"
   ]
  },
  {
   "cell_type": "code",
   "execution_count": 29,
   "id": "f3e5d244",
   "metadata": {},
   "outputs": [
    {
     "name": "stdout",
     "output_type": "stream",
     "text": [
      "[[[ 5.82747269e+01 -3.47105898e-02 -2.50692666e-01]\n",
      "  [ 1.31162872e+02 -1.55123457e-01  7.80243650e-02]\n",
      "  [ 7.43576889e+01  1.31787956e-01  2.54535414e-02]\n",
      "  [ 5.49918594e+01  1.39287919e-01  2.79548876e-02]\n",
      "  [ 4.93375778e+01  1.51787952e-01  2.54535191e-02]\n",
      "  [ 1.10920090e+02  1.41642347e-01  2.73399241e-02]\n",
      "  [ 9.82711639e+01  1.34287924e-01  2.29523480e-02]\n",
      "  [ 5.16941032e+01 -1.65386036e-01  7.07828403e-02]]]\n",
      "[[[ 0.26609464 -0.17355295 -1.25346333]\n",
      "  [ 0.59891723 -0.77561729  0.39012183]\n",
      "  [ 0.33953283  0.65893978  0.12726771]\n",
      "  [ 0.25110438  0.69643959  0.13977444]\n",
      "  [ 0.22528574  0.75893976  0.1272676 ]\n",
      "  [ 0.50648443  0.70821173  0.13669962]\n",
      "  [ 0.44872678  0.67143962  0.11476174]\n",
      "  [ 0.23604613 -0.82693018  0.3539142 ]]]\n"
     ]
    }
   ],
   "source": [
    "interquantile_range = [219, 0.20, 0.20]\n",
    "X_train = data.train_data / interquantile_range\n",
    "print(data.train_data[0:1])\n",
    "print(X_train[0:1])"
   ]
  },
  {
   "cell_type": "code",
   "execution_count": null,
   "id": "70d299cf",
   "metadata": {},
   "outputs": [],
   "source": []
  }
 ],
 "metadata": {
  "kernelspec": {
   "display_name": "Python 3 (ipykernel)",
   "language": "python",
   "name": "python3"
  },
  "language_info": {
   "codemirror_mode": {
    "name": "ipython",
    "version": 3
   },
   "file_extension": ".py",
   "mimetype": "text/x-python",
   "name": "python",
   "nbconvert_exporter": "python",
   "pygments_lexer": "ipython3",
   "version": "3.7.12"
  }
 },
 "nbformat": 4,
 "nbformat_minor": 5
}
